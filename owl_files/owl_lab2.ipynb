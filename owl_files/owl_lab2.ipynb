{
  "nbformat": 4,
  "nbformat_minor": 0,
  "metadata": {
    "colab": {
      "name": "owl_lab2.ipynb",
      "provenance": []
    },
    "kernelspec": {
      "name": "python3",
      "display_name": "Python 3"
    }
  },
  "cells": [
    {
      "cell_type": "code",
      "metadata": {
        "colab": {
          "base_uri": "https://localhost:8080/"
        },
        "id": "maMzunEP0Hw0",
        "outputId": "d67095e8-1202-4263-adef-615203ee86ec"
      },
      "source": [
        "!pip install owlready2"
      ],
      "execution_count": 3,
      "outputs": [
        {
          "output_type": "stream",
          "text": [
            "Collecting owlready2\n",
            "\u001b[?25l  Downloading https://files.pythonhosted.org/packages/d1/0a/5968df803f6f8c8171fbacde0dca5fc6f6f7542d6a1bc221ec52d8d96bda/Owlready2-0.25.tar.gz (20.9MB)\n",
            "\u001b[K     |████████████████████████████████| 20.9MB 1.2MB/s \n",
            "\u001b[?25hBuilding wheels for collected packages: owlready2\n",
            "  Building wheel for owlready2 (setup.py) ... \u001b[?25l\u001b[?25hdone\n",
            "  Created wheel for owlready2: filename=Owlready2-0.25-cp36-cp36m-linux_x86_64.whl size=20269677 sha256=bb6eb812f48e5343eb83d7639ef2f59f9d8b9a8a38a7f79d2774b5e319dafaeb\n",
            "  Stored in directory: /root/.cache/pip/wheels/62/74/7f/ab814059f816d87b26a1e1ec242c40d443cd2e22b0868a2a94\n",
            "Successfully built owlready2\n",
            "Installing collected packages: owlready2\n",
            "Successfully installed owlready2-0.25\n"
          ],
          "name": "stdout"
        }
      ]
    },
    {
      "cell_type": "code",
      "metadata": {
        "id": "QcoTcLGGBYH5"
      },
      "source": [
        "from owlready2 import *"
      ],
      "execution_count": 4,
      "outputs": []
    },
    {
      "cell_type": "code",
      "metadata": {
        "id": "idj4OSqhEJ_z",
        "colab": {
          "resources": {
            "http://localhost:8080/nbextensions/google.colab/files.js": {
              "data": "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",
              "ok": true,
              "headers": [
                [
                  "content-type",
                  "application/javascript"
                ]
              ],
              "status": 200,
              "status_text": ""
            }
          },
          "base_uri": "https://localhost:8080/",
          "height": 73
        },
        "outputId": "ca739a37-30c4-4b4d-e87f-193189fd4850"
      },
      "source": [
        "from google.colab import files\r\n",
        "uploaded = files.upload()"
      ],
      "execution_count": 30,
      "outputs": [
        {
          "output_type": "display_data",
          "data": {
            "text/html": [
              "\n",
              "     <input type=\"file\" id=\"files-f9dccd12-f6a9-4936-b709-161062bfdc2b\" name=\"files[]\" multiple disabled\n",
              "        style=\"border:none\" />\n",
              "     <output id=\"result-f9dccd12-f6a9-4936-b709-161062bfdc2b\">\n",
              "      Upload widget is only available when the cell has been executed in the\n",
              "      current browser session. Please rerun this cell to enable.\n",
              "      </output>\n",
              "      <script src=\"/nbextensions/google.colab/files.js\"></script> "
            ],
            "text/plain": [
              "<IPython.core.display.HTML object>"
            ]
          },
          "metadata": {
            "tags": []
          }
        },
        {
          "output_type": "stream",
          "text": [
            "Saving Fashion.owl to Fashion.owl\n"
          ],
          "name": "stdout"
        }
      ]
    },
    {
      "cell_type": "code",
      "metadata": {
        "id": "Wgtqigwjh9vi"
      },
      "source": [
        "owl = get_ontology(\"file://\" + \"Fashion_ontology.owl\").load()"
      ],
      "execution_count": 31,
      "outputs": []
    },
    {
      "cell_type": "code",
      "metadata": {
        "colab": {
          "base_uri": "https://localhost:8080/"
        },
        "id": "3HPGzeQ7kfSB",
        "outputId": "6951ed80-64a9-42e1-bc4b-1ce691cc6dd5"
      },
      "source": [
        "print(owl)"
      ],
      "execution_count": 32,
      "outputs": [
        {
          "output_type": "stream",
          "text": [
            "get_ontology(\"http://www.semanticweb.org/4e6an/ontologies/2020/11/untitled-ontology-27#\")\n"
          ],
          "name": "stdout"
        }
      ]
    },
    {
      "cell_type": "code",
      "metadata": {
        "colab": {
          "base_uri": "https://localhost:8080/"
        },
        "id": "TbuchpJAkntx",
        "outputId": "4335b0fc-25d8-414d-86b7-9c8d900adbd5"
      },
      "source": [
        "list(owl.classes())"
      ],
      "execution_count": 42,
      "outputs": [
        {
          "output_type": "execute_result",
          "data": {
            "text/plain": [
              "[Fashion_ontology.Accessory,\n",
              " Fashion_ontology.Alexander_Wang,\n",
              " Fashion_ontology.Backpack,\n",
              " Fashion_ontology.Bag,\n",
              " Fashion_ontology.Balenciaga,\n",
              " Fashion_ontology.Boots,\n",
              " Fashion_ontology.Boris_Bidjan,\n",
              " Fashion_ontology.Brand,\n",
              " Fashion_ontology.Cargo,\n",
              " Fashion_ontology.Clothing,\n",
              " Fashion_ontology.Collection,\n",
              " Fashion_ontology.Country,\n",
              " Fashion_ontology.Diesel,\n",
              " Fashion_ontology.Distributor,\n",
              " Fashion_ontology.Footwear,\n",
              " Fashion_ontology.Gender,\n",
              " Fashion_ontology.Jacket,\n",
              " Fashion_ontology.Jeans,\n",
              " Fashion_ontology.Joggers,\n",
              " Fashion_ontology.Pants,\n",
              " Fashion_ontology.Parka,\n",
              " Fashion_ontology.Person,\n",
              " Fashion_ontology.Production,\n",
              " Fashion_ontology.Raincoat,\n",
              " Fashion_ontology.Rick_Owens,\n",
              " Fashion_ontology.Riot_Division,\n",
              " Fashion_ontology.Season,\n",
              " Fashion_ontology.Shoes,\n",
              " Fashion_ontology.Sneakers]"
            ]
          },
          "metadata": {
            "tags": []
          },
          "execution_count": 42
        }
      ]
    },
    {
      "cell_type": "markdown",
      "metadata": {
        "id": "OSw0KSgfmnBR"
      },
      "source": [
        "Завдання: вирахувати кількість класів онтології"
      ]
    },
    {
      "cell_type": "code",
      "metadata": {
        "colab": {
          "base_uri": "https://localhost:8080/"
        },
        "id": "EI66g0EJlA92",
        "outputId": "1f2b640f-024e-4e03-a38c-8304688e6b5a"
      },
      "source": [
        "print(\"В розробленій онтології \" + str(len(list(owl.classes()))) + \" класів\")"
      ],
      "execution_count": 34,
      "outputs": [
        {
          "output_type": "stream",
          "text": [
            "В розробленій онтології 29 класів\n"
          ],
          "name": "stdout"
        }
      ]
    },
    {
      "cell_type": "markdown",
      "metadata": {
        "id": "iADM5ZewnXRd"
      },
      "source": [
        "Завдання: вирахувати кількість екземплярів (Individuals) в онтології"
      ]
    },
    {
      "cell_type": "code",
      "metadata": {
        "colab": {
          "base_uri": "https://localhost:8080/"
        },
        "id": "vG30bxc0nSRB",
        "outputId": "aa691bb4-ace8-4dd4-d2b3-89770659a402"
      },
      "source": [
        "set_of_instance = set()\r\n",
        "for el in owl.classes():\r\n",
        "  for i, instance in enumerate(el.instances()):\r\n",
        "    set_of_instance.add(instance)\r\n",
        "print(\"В розробленій онтології \" + str(len(set_of_instance)) + \" екземплярів\")"
      ],
      "execution_count": 35,
      "outputs": [
        {
          "output_type": "stream",
          "text": [
            "В розробленій онтології 49 екземплярів\n"
          ],
          "name": "stdout"
        }
      ]
    },
    {
      "cell_type": "markdown",
      "metadata": {
        "id": "lfa5tdnot9ws"
      },
      "source": [
        "Завдання: знайти класи, що мають конкретну властивість (слот)"
      ]
    },
    {
      "cell_type": "code",
      "metadata": {
        "id": "trRiiY7ty0Xc"
      },
      "source": [
        "def class_has_property(query : list):\r\n",
        "  class_set = set()\r\n",
        "  for clazz in owl.classes():\r\n",
        "    for instance in clazz.instances():\r\n",
        "        if instance in query:\r\n",
        "          class_set.add(clazz)\r\n",
        "  return class_set\r\n"
      ],
      "execution_count": 36,
      "outputs": []
    },
    {
      "cell_type": "code",
      "metadata": {
        "id": "pGvFVNtw4X4l"
      },
      "source": [
        "instances_in_query = owl.search(hasGender = \"*\")"
      ],
      "execution_count": 37,
      "outputs": []
    },
    {
      "cell_type": "code",
      "metadata": {
        "colab": {
          "base_uri": "https://localhost:8080/"
        },
        "id": "8BJ4Bd1xR07n",
        "outputId": "26b34a07-01ec-4cae-e4b3-95cac603db90"
      },
      "source": [
        "csp = class_has_property(list(instances_in_query))\r\n",
        "for el in csp:\r\n",
        "  print(el)"
      ],
      "execution_count": 38,
      "outputs": [
        {
          "output_type": "stream",
          "text": [
            "Fashion_ontology.Cargo\n",
            "Fashion_ontology.Pants\n",
            "Fashion_ontology.Parka\n",
            "Fashion_ontology.Brand\n",
            "Fashion_ontology.Clothing\n",
            "Fashion_ontology.Joggers\n",
            "Fashion_ontology.Sneakers\n",
            "Fashion_ontology.Jeans\n",
            "Fashion_ontology.Person\n",
            "Fashion_ontology.Shoes\n",
            "Fashion_ontology.Boots\n",
            "Fashion_ontology.Accessory\n",
            "Fashion_ontology.Jacket\n",
            "Fashion_ontology.Raincoat\n",
            "Fashion_ontology.Footwear\n",
            "Fashion_ontology.Production\n",
            "Fashion_ontology.Bag\n",
            "Fashion_ontology.Backpack\n"
          ],
          "name": "stdout"
        }
      ]
    },
    {
      "cell_type": "markdown",
      "metadata": {
        "id": "pCuWiq-ISfhm"
      },
      "source": [
        "Завдання: виконати довільну операцію із аналізу онтології (Знайдемо екземпляри класу Production, які мають задану властивість hasGender (Women)"
      ]
    },
    {
      "cell_type": "code",
      "metadata": {
        "colab": {
          "base_uri": "https://localhost:8080/"
        },
        "id": "oLhTRjhTyiwa",
        "outputId": "b82d2ee2-9f32-4be2-9c72-0d1f76df2573"
      },
      "source": [
        "womens_clothing = owl.search(is_a = owl.Production, hasGender = owl.Women)\r\n",
        "for el in womens_clothing:\r\n",
        "  print(el.name)"
      ],
      "execution_count": 39,
      "outputs": [
        {
          "output_type": "stream",
          "text": [
            "HOURGLASS_SMALL_TOP_HANDLE_BAG\n",
            "Logo_tape_jogger\n",
            "Track_sandals\n",
            "High_top_lace-up_sneakers\n"
          ],
          "name": "stdout"
        }
      ]
    },
    {
      "cell_type": "markdown",
      "metadata": {
        "id": "JTDiMEZePXUw"
      },
      "source": [
        "Перевірка відповідності за допомогою Hermit:"
      ]
    },
    {
      "cell_type": "code",
      "metadata": {
        "colab": {
          "base_uri": "https://localhost:8080/"
        },
        "id": "iW9KX2SYPWmV",
        "outputId": "610b613e-2dc5-4371-9dfc-d2d73479ebcd"
      },
      "source": [
        "sync_reasoner()"
      ],
      "execution_count": 40,
      "outputs": [
        {
          "output_type": "stream",
          "text": [
            "* Owlready2 * Running HermiT...\n",
            "    java -Xmx2000M -cp /usr/local/lib/python3.6/dist-packages/owlready2/hermit:/usr/local/lib/python3.6/dist-packages/owlready2/hermit/HermiT.jar org.semanticweb.HermiT.cli.CommandLine -c -O -D -I file:////tmp/tmpiik2_cf3\n",
            "* Owlready2 * HermiT took 1.7670366764068604 seconds\n",
            "* Owlready * Reparenting Fashion_ontology.hasDistributor: {owl.ObjectProperty, Fashion_ontology.brandHas, owl.AsymmetricProperty, owl.IrreflexiveProperty} => {owl.IrreflexiveProperty, owl.AsymmetricProperty, Fashion_ontology.brandHas}\n",
            "* Owlready * Reparenting Fashion_ontology.hasCollection: {owl.ObjectProperty, Fashion_ontology.brandHas, owl.AsymmetricProperty, owl.IrreflexiveProperty} => {owl.IrreflexiveProperty, owl.AsymmetricProperty, Fashion_ontology.brandHas}\n",
            "* Owlready * (NB: only changes on entities loaded in Python are shown, other changes are done but not listed)\n"
          ],
          "name": "stderr"
        }
      ]
    },
    {
      "cell_type": "markdown",
      "metadata": {
        "id": "MSNOnp_XRKUA"
      },
      "source": [
        "Редагування онтології програмним шляхом: додати 2-3 класи, властивості, екземпляри"
      ]
    },
    {
      "cell_type": "code",
      "metadata": {
        "id": "3ISw_5IkRJ3p"
      },
      "source": [
        "with owl:\r\n",
        "  class Direction(Thing):\r\n",
        "    pass\r\n",
        "  class Boho(Direction):\r\n",
        "    pass\r\n",
        "  class Grunge(Direction):\r\n",
        "    pass\r\n",
        "  class Sport(Direction):\r\n",
        "    pass\r\n",
        "\r\n",
        "  class hasDirection(ObjectProperty):\r\n",
        "    domain = [owl.Brand]\r\n",
        "    range = [Direction]\r\n",
        "    inverse_property = isDirectionOf\r\n",
        "\r\n",
        "  class hasStyle(ObjectProperty):\r\n",
        "    domain = [owl.Production]\r\n",
        "    range = [Direction]\r\n",
        "    inverse_property = isStyleOf\r\n",
        "\r\n",
        "  class isDirectionOf(ObjectProperty):\r\n",
        "    domain = [Direction]\r\n",
        "    range = [owl.Brand]\r\n",
        "    inverse_property = hasDirection\r\n",
        "\r\n",
        "  class isStyleOf(ObjectProperty):\r\n",
        "    domain = [Direction]\r\n",
        "    range = [owl.Production]\r\n",
        "    inverse_property = hasStyle\r\n",
        "\r\n",
        "  class hasAge(DataProperty):\r\n",
        "    domain = [owl.Person]\r\n",
        "    range = [int]"
      ],
      "execution_count": 68,
      "outputs": []
    },
    {
      "cell_type": "code",
      "metadata": {
        "colab": {
          "base_uri": "https://localhost:8080/"
        },
        "id": "kbvBB74Yb6kq",
        "outputId": "303de842-9446-46dc-8c09-ce8e61e243ba"
      },
      "source": [
        "for el in owl.Direction.subclasses():\r\n",
        "  print(el.name)"
      ],
      "execution_count": 69,
      "outputs": [
        {
          "output_type": "stream",
          "text": [
            "Boho\n",
            "Grunge\n",
            "Sport\n"
          ],
          "name": "stdout"
        }
      ]
    },
    {
      "cell_type": "code",
      "metadata": {
        "id": "ZV2HXSv0b40Q"
      },
      "source": [
        "# Create instances\r\n",
        "boho_style = Boho(\"Boho style\")\r\n",
        "sport_style = Sport(\"Sport style\")\r\n",
        "grunge_style = Grunge(\"Grunge style\")"
      ],
      "execution_count": 70,
      "outputs": []
    },
    {
      "cell_type": "code",
      "metadata": {
        "colab": {
          "base_uri": "https://localhost:8080/"
        },
        "id": "vLOb57KPdR4U",
        "outputId": "f44d50f8-49f0-4ff7-830d-05f361a2b6cc"
      },
      "source": [
        "for el in owl.Direction.subclasses():\r\n",
        "  print(el.instances())"
      ],
      "execution_count": 71,
      "outputs": [
        {
          "output_type": "stream",
          "text": [
            "[Fashion_ontology.Boho style]\n",
            "[Fashion_ontology.Grunge style]\n",
            "[Fashion_ontology.Sport style]\n"
          ],
          "name": "stdout"
        }
      ]
    },
    {
      "cell_type": "markdown",
      "metadata": {
        "id": "g3XEFtJmgxPm"
      },
      "source": [
        "Редагування онтології програмним шляхом: видалити 2-3 класи, властивості, екземпляри"
      ]
    },
    {
      "cell_type": "code",
      "metadata": {
        "id": "hffR4byXdkvQ"
      },
      "source": [
        "destroy_entity(boho_style)\r\n",
        "destroy_entity(sport_style)\r\n",
        "destroy_entity(grunge_style)"
      ],
      "execution_count": 76,
      "outputs": []
    },
    {
      "cell_type": "code",
      "metadata": {
        "colab": {
          "base_uri": "https://localhost:8080/"
        },
        "id": "HHaZ7lb7hcTt",
        "outputId": "3bd2b17e-9206-42bd-f059-79ac0248923e"
      },
      "source": [
        "for el in owl.Direction.subclasses():\r\n",
        "  print(el.instances())"
      ],
      "execution_count": 77,
      "outputs": [
        {
          "output_type": "stream",
          "text": [
            "[]\n",
            "[]\n",
            "[]\n"
          ],
          "name": "stdout"
        }
      ]
    },
    {
      "cell_type": "code",
      "metadata": {
        "id": "9-xntbyJh-_K"
      },
      "source": [
        "destroy_entity(hasDirection)\r\n",
        "destroy_entity(hasStyle)\r\n",
        "destroy_entity(isDirectionOf)\r\n",
        "destroy_entity(isStyleOf)"
      ],
      "execution_count": 78,
      "outputs": []
    },
    {
      "cell_type": "code",
      "metadata": {
        "id": "a-QgdvZ5hxOb"
      },
      "source": [
        "destroy_entity(Boho)\r\n",
        "destroy_entity(Sport)\r\n",
        "destroy_entity(Grunge)"
      ],
      "execution_count": 80,
      "outputs": []
    },
    {
      "cell_type": "code",
      "metadata": {
        "id": "RDDxCmvyhuS8"
      },
      "source": [
        "for el in owl.Direction.subclasses():\r\n",
        "  print(el.name)"
      ],
      "execution_count": 81,
      "outputs": []
    },
    {
      "cell_type": "code",
      "metadata": {
        "colab": {
          "base_uri": "https://localhost:8080/"
        },
        "id": "KPglt5oth5dH",
        "outputId": "64597f5a-cf07-4809-885b-f1d854b0097e"
      },
      "source": [
        "sync_reasoner()"
      ],
      "execution_count": 82,
      "outputs": [
        {
          "output_type": "stream",
          "text": [
            "* Owlready2 * Running HermiT...\n",
            "    java -Xmx2000M -cp /usr/local/lib/python3.6/dist-packages/owlready2/hermit:/usr/local/lib/python3.6/dist-packages/owlready2/hermit/HermiT.jar org.semanticweb.HermiT.cli.CommandLine -c -O -D -I file:////tmp/tmp6eqp_7ke\n",
            "* Owlready2 * HermiT took 1.696232557296753 seconds\n",
            "* Owlready * Reparenting Fashion_ontology.hasFounder: {owl.ObjectProperty, Fashion_ontology.brandHas, owl.AsymmetricProperty, owl.IrreflexiveProperty} => {owl.IrreflexiveProperty, owl.AsymmetricProperty, Fashion_ontology.brandHas}\n",
            "* Owlready * (NB: only changes on entities loaded in Python are shown, other changes are done but not listed)\n"
          ],
          "name": "stderr"
        }
      ]
    }
  ]
}